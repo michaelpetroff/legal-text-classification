{
 "cells": [
  {
   "attachments": {},
   "cell_type": "markdown",
   "metadata": {},
   "source": [
    "# Table of categories"
   ]
  },
  {
   "cell_type": "code",
   "execution_count": 48,
   "metadata": {},
   "outputs": [
    {
     "data": {
      "text/html": [
       "<div>\n",
       "<style scoped>\n",
       "    .dataframe tbody tr th:only-of-type {\n",
       "        vertical-align: middle;\n",
       "    }\n",
       "\n",
       "    .dataframe tbody tr th {\n",
       "        vertical-align: top;\n",
       "    }\n",
       "\n",
       "    .dataframe thead th {\n",
       "        text-align: right;\n",
       "    }\n",
       "</style>\n",
       "<table border=\"1\" class=\"dataframe\">\n",
       "  <thead>\n",
       "    <tr style=\"text-align: right;\">\n",
       "      <th></th>\n",
       "      <th>train</th>\n",
       "      <th>val</th>\n",
       "    </tr>\n",
       "  </thead>\n",
       "  <tbody>\n",
       "    <tr>\n",
       "      <th>3</th>\n",
       "      <td>19535</td>\n",
       "      <td>2171</td>\n",
       "    </tr>\n",
       "    <tr>\n",
       "      <th>25</th>\n",
       "      <td>17718</td>\n",
       "      <td>1969</td>\n",
       "    </tr>\n",
       "    <tr>\n",
       "      <th>21</th>\n",
       "      <td>11615</td>\n",
       "      <td>1291</td>\n",
       "    </tr>\n",
       "    <tr>\n",
       "      <th>36</th>\n",
       "      <td>10479</td>\n",
       "      <td>1164</td>\n",
       "    </tr>\n",
       "    <tr>\n",
       "      <th>14</th>\n",
       "      <td>7065</td>\n",
       "      <td>785</td>\n",
       "    </tr>\n",
       "    <tr>\n",
       "      <th>6</th>\n",
       "      <td>5784</td>\n",
       "      <td>643</td>\n",
       "    </tr>\n",
       "    <tr>\n",
       "      <th>12</th>\n",
       "      <td>5737</td>\n",
       "      <td>637</td>\n",
       "    </tr>\n",
       "    <tr>\n",
       "      <th>19</th>\n",
       "      <td>5264</td>\n",
       "      <td>585</td>\n",
       "    </tr>\n",
       "    <tr>\n",
       "      <th>5</th>\n",
       "      <td>5253</td>\n",
       "      <td>584</td>\n",
       "    </tr>\n",
       "    <tr>\n",
       "      <th>2</th>\n",
       "      <td>4126</td>\n",
       "      <td>458</td>\n",
       "    </tr>\n",
       "    <tr>\n",
       "      <th>26</th>\n",
       "      <td>3729</td>\n",
       "      <td>414</td>\n",
       "    </tr>\n",
       "    <tr>\n",
       "      <th>28</th>\n",
       "      <td>3722</td>\n",
       "      <td>414</td>\n",
       "    </tr>\n",
       "    <tr>\n",
       "      <th>32</th>\n",
       "      <td>3355</td>\n",
       "      <td>373</td>\n",
       "    </tr>\n",
       "    <tr>\n",
       "      <th>22</th>\n",
       "      <td>3033</td>\n",
       "      <td>337</td>\n",
       "    </tr>\n",
       "    <tr>\n",
       "      <th>37</th>\n",
       "      <td>2172</td>\n",
       "      <td>241</td>\n",
       "    </tr>\n",
       "    <tr>\n",
       "      <th>4</th>\n",
       "      <td>1806</td>\n",
       "      <td>201</td>\n",
       "    </tr>\n",
       "    <tr>\n",
       "      <th>16</th>\n",
       "      <td>1732</td>\n",
       "      <td>192</td>\n",
       "    </tr>\n",
       "    <tr>\n",
       "      <th>9</th>\n",
       "      <td>1673</td>\n",
       "      <td>186</td>\n",
       "    </tr>\n",
       "    <tr>\n",
       "      <th>17</th>\n",
       "      <td>1658</td>\n",
       "      <td>184</td>\n",
       "    </tr>\n",
       "    <tr>\n",
       "      <th>10</th>\n",
       "      <td>1348</td>\n",
       "      <td>150</td>\n",
       "    </tr>\n",
       "    <tr>\n",
       "      <th>35</th>\n",
       "      <td>731</td>\n",
       "      <td>81</td>\n",
       "    </tr>\n",
       "    <tr>\n",
       "      <th>1</th>\n",
       "      <td>644</td>\n",
       "      <td>71</td>\n",
       "    </tr>\n",
       "    <tr>\n",
       "      <th>33</th>\n",
       "      <td>400</td>\n",
       "      <td>44</td>\n",
       "    </tr>\n",
       "    <tr>\n",
       "      <th>24</th>\n",
       "      <td>356</td>\n",
       "      <td>40</td>\n",
       "    </tr>\n",
       "    <tr>\n",
       "      <th>34</th>\n",
       "      <td>233</td>\n",
       "      <td>26</td>\n",
       "    </tr>\n",
       "    <tr>\n",
       "      <th>0</th>\n",
       "      <td>227</td>\n",
       "      <td>25</td>\n",
       "    </tr>\n",
       "    <tr>\n",
       "      <th>13</th>\n",
       "      <td>178</td>\n",
       "      <td>20</td>\n",
       "    </tr>\n",
       "    <tr>\n",
       "      <th>15</th>\n",
       "      <td>174</td>\n",
       "      <td>19</td>\n",
       "    </tr>\n",
       "    <tr>\n",
       "      <th>18</th>\n",
       "      <td>158</td>\n",
       "      <td>18</td>\n",
       "    </tr>\n",
       "    <tr>\n",
       "      <th>20</th>\n",
       "      <td>140</td>\n",
       "      <td>16</td>\n",
       "    </tr>\n",
       "    <tr>\n",
       "      <th>27</th>\n",
       "      <td>126</td>\n",
       "      <td>14</td>\n",
       "    </tr>\n",
       "    <tr>\n",
       "      <th>8</th>\n",
       "      <td>125</td>\n",
       "      <td>14</td>\n",
       "    </tr>\n",
       "    <tr>\n",
       "      <th>23</th>\n",
       "      <td>117</td>\n",
       "      <td>13</td>\n",
       "    </tr>\n",
       "    <tr>\n",
       "      <th>11</th>\n",
       "      <td>79</td>\n",
       "      <td>9</td>\n",
       "    </tr>\n",
       "    <tr>\n",
       "      <th>7</th>\n",
       "      <td>50</td>\n",
       "      <td>5</td>\n",
       "    </tr>\n",
       "    <tr>\n",
       "      <th>30</th>\n",
       "      <td>32</td>\n",
       "      <td>4</td>\n",
       "    </tr>\n",
       "  </tbody>\n",
       "</table>\n",
       "</div>"
      ],
      "text/plain": [
       "    train   val\n",
       "3   19535  2171\n",
       "25  17718  1969\n",
       "21  11615  1291\n",
       "36  10479  1164\n",
       "14   7065   785\n",
       "6    5784   643\n",
       "12   5737   637\n",
       "19   5264   585\n",
       "5    5253   584\n",
       "2    4126   458\n",
       "26   3729   414\n",
       "28   3722   414\n",
       "32   3355   373\n",
       "22   3033   337\n",
       "37   2172   241\n",
       "4    1806   201\n",
       "16   1732   192\n",
       "9    1673   186\n",
       "17   1658   184\n",
       "10   1348   150\n",
       "35    731    81\n",
       "1     644    71\n",
       "33    400    44\n",
       "24    356    40\n",
       "34    233    26\n",
       "0     227    25\n",
       "13    178    20\n",
       "15    174    19\n",
       "18    158    18\n",
       "20    140    16\n",
       "27    126    14\n",
       "8     125    14\n",
       "23    117    13\n",
       "11     79     9\n",
       "7      50     5\n",
       "30     32     4"
      ]
     },
     "execution_count": 48,
     "metadata": {},
     "output_type": "execute_result"
    }
   ],
   "source": [
    "import pandas as pd\n",
    "\n",
    "train_data = pd.read_csv('processed_data/train_trans.csv')\n",
    "texts_train, targets_train = train_data.text, train_data.target\n",
    "val_data = pd.read_csv('processed_data/val_trans.csv')\n",
    "texts_val, targets_val = val_data.text, val_data.target\n",
    "\n",
    "pd.DataFrame({'train': targets_train.value_counts(), 'val': targets_val.value_counts()}).sort_values('train', ascending=False)"
   ]
  },
  {
   "attachments": {},
   "cell_type": "markdown",
   "metadata": {},
   "source": [
    "# RF predicts"
   ]
  },
  {
   "cell_type": "code",
   "execution_count": 1,
   "metadata": {},
   "outputs": [
    {
     "data": {
      "image/png": "[encoded data removed]",
      "text/plain": [
       "<Figure size 640x480 with 1 Axes>"
      ]
     },
     "metadata": {},
     "output_type": "display_data"
    }
   ],
   "source": [
    "import pandas as pd\n",
    "import matplotlib.pyplot as plt\n",
    "\n",
    "data = pd.read_csv('rf_predicts.csv')\n",
    "c_all, a_all, t_all = [], [], []\n",
    "for thr in sorted(data.proba.unique(), reverse=True):\n",
    "    good = data[data.proba >= thr]\n",
    "    a_all += [(good.target == good.predict).mean()]\n",
    "    c_all += [len(good) / len(data)]\n",
    "    t_all += [thr]\n",
    "plt.plot(c_all, a_all)\n",
    "plt.xlabel('Покрытие')\n",
    "plt.ylabel('Доля правильных ответов')\n",
    "plt.grid()"
   ]
  },
  {
   "cell_type": "code",
   "execution_count": 7,
   "metadata": {},
   "outputs": [
    {
     "data": {
      "text/plain": [
       "[(0.8760192862258466, 0.7799938865963625, 0.9990075578288419),\n",
       " (0.8760110426477119, 0.7799342859326048, 0.9990838995343156),\n",
       " (0.876009117176558, 0.7821319018404908, 0.9954958393770517),\n",
       " (0.8760051395623114, 0.7804374426430101, 0.998244140774105),\n",
       " (0.8760010517137304, 0.7820719269994633, 0.9955721810825254),\n",
       " (0.8759828336288912, 0.7845099699745939, 0.9916024123978929),\n",
       " (0.8759749679462479, 0.7844495765973826, 0.9916787541033667),\n",
       " (0.875954312209972, 0.7897515527950311, 0.9832811665012596),\n",
       " (0.8759532164460955, 0.779517336184512, 0.9996182914726315),\n",
       " (0.8759505610670555, 0.7845537845537846, 0.9914497289869456)]"
      ]
     },
     "execution_count": 7,
     "metadata": {},
     "output_type": "execute_result"
    }
   ],
   "source": [
    "# common f_score\n",
    "fac = []\n",
    "for a, c in zip(a_all, c_all):\n",
    "    f = 2*a*c/(a+c)\n",
    "    fac += [(f, a, c)]\n",
    "sorted(fac, reverse=True)[:10]"
   ]
  },
  {
   "cell_type": "code",
   "execution_count": 8,
   "metadata": {},
   "outputs": [
    {
     "data": {
      "text/plain": [
       "[(0.8836895807183789, 0.9389024390243902, 0.6260019848843423),\n",
       " (0.883570464145631, 0.9367378968972594, 0.6323383464386595),\n",
       " (0.8835501235434354, 0.9386734942696903, 0.6261546682952898),\n",
       " (0.8835256364949192, 0.9366324683162341, 0.6324910298496068),\n",
       " (0.8835097011629982, 0.9364447660395562, 0.6330254217879228),\n",
       " (0.8835052024293946, 0.9385665529010239, 0.6263073517062371),\n",
       " (0.883501058223912, 0.936624818928054, 0.6324146881441332),\n",
       " (0.8834808165628466, 0.9365270906238687, 0.6326437132605542),\n",
       " (0.8834804045111615, 0.938559063757162, 0.6262310100007634),\n",
       " (0.8834705540761448, 0.9346241185610135, 0.6387510496984503)]"
      ]
     },
     "execution_count": 8,
     "metadata": {},
     "output_type": "execute_result"
    }
   ],
   "source": [
    "# new f_score\n",
    "fac = []\n",
    "for a, c in zip(a_all, c_all):\n",
    "    f = 8*a*c/(a+7*c)\n",
    "    fac += [(f, a, c)]\n",
    "sorted(fac, reverse=True)[:10]"
   ]
  },
  {
   "cell_type": "code",
   "execution_count": null,
   "metadata": {},
   "outputs": [],
   "source": [
    "import optuna\n",
    "\n",
    "thrs = data.groupby('predict').proba.agg(lambda d: list(set(d)))\n",
    "classes = data.predict.unique()\n",
    "\n",
    "def objective(trial):\n",
    "    good = data.copy()\n",
    "    for i in classes:\n",
    "        trial.suggest_float(f'thr_{i}', 0, 1)\n",
    "        good = good[(good.predict != i) | (good.proba >= trial.params[f'thr_{i}'])]\n",
    "    acc = (good.target == good.predict).mean()\n",
    "    cover = len(good) / len(data)\n",
    "    f_score = 8 * acc * cover / (acc + 7 * cover)\n",
    "    return f_score\n",
    "\n",
    "study = optuna.create_study(direction='maximize')\n",
    "study.optimize(objective, timeout=300, n_jobs=-1)"
   ]
  },
  {
   "cell_type": "code",
   "execution_count": 4,
   "metadata": {},
   "outputs": [
    {
     "data": {
      "text/plain": [
       "(0.9391883851005594, 0.6414993510955035, 0.8876962372692101)"
      ]
     },
     "execution_count": 4,
     "metadata": {},
     "output_type": "execute_result"
    }
   ],
   "source": [
    "good = data.copy()\n",
    "for i in classes:\n",
    "    thr_i = study.best_params[f'thr_{i}']\n",
    "    good = good[(good.predict != i) | (good.proba >= thr_i)]\n",
    "acc = (good.target == good.predict).mean()\n",
    "cover = len(good) / len(data)\n",
    "f_score = 8 * acc * cover / (acc + 7 * cover)\n",
    "acc, cover, f_score"
   ]
  },
  {
   "cell_type": "code",
   "execution_count": 5,
   "metadata": {},
   "outputs": [
    {
     "data": {
      "text/plain": [
       "73.642751223939"
      ]
     },
     "execution_count": 5,
     "metadata": {},
     "output_type": "execute_result"
    }
   ],
   "source": [
    "from math import log10\n",
    "data.groupby('target').text.count().apply(log10).sum()"
   ]
  },
  {
   "cell_type": "code",
   "execution_count": null,
   "metadata": {},
   "outputs": [],
   "source": [
    "import optuna\n",
    "\n",
    "classes = data.predict.unique()\n",
    "separate_classes = [3, 25, 21, 36]\n",
    "\n",
    "def objective(trial):\n",
    "    good = data.copy()\n",
    "\n",
    "    for i in separate_classes:\n",
    "        trial.suggest_float(f'thr_{i}', 0, 1)\n",
    "        good = good[(good.predict != i) | (good.proba >= trial.params[f'thr_{i}'])]\n",
    "\n",
    "    trial.suggest_float('thr_other', 0, 1)\n",
    "    good = good[good.predict.isin(separate_classes) | (good.proba >= trial.params['thr_other'])]\n",
    "\n",
    "    acc = (good.target == good.predict).mean()\n",
    "    cover = len(good) / len(data)\n",
    "    f_score = 8 * acc * cover / (acc + 7 * cover)\n",
    "    return f_score\n",
    "\n",
    "study2 = optuna.create_study(direction='maximize')\n",
    "study2.optimize(objective, timeout=300, n_jobs=-1)"
   ]
  },
  {
   "cell_type": "code",
   "execution_count": 6,
   "metadata": {},
   "outputs": [
    {
     "data": {
      "text/plain": [
       "(0.9309457190822608, 0.682113138407512, 0.8903463017208236)"
      ]
     },
     "execution_count": 6,
     "metadata": {},
     "output_type": "execute_result"
    }
   ],
   "source": [
    "good = data.copy()\n",
    "for i in separate_classes:\n",
    "    thr_i = study2.best_params[f'thr_{i}']\n",
    "    good = good[(good.predict != i) | (good.proba >= thr_i)]\n",
    "good = good[good.predict.isin(separate_classes) | (good.proba >= study2.best_params['thr_other'])]\n",
    "acc2 = (good.target == good.predict).mean()\n",
    "cover2 = len(good) / len(data)\n",
    "f_score2 = 8 * acc2 * cover2 / (acc2 + 7 * cover2)\n",
    "acc2, cover2, f_score2"
   ]
  },
  {
   "cell_type": "code",
   "execution_count": null,
   "metadata": {},
   "outputs": [],
   "source": []
  },
  {
   "cell_type": "code",
   "execution_count": null,
   "metadata": {},
   "outputs": [],
   "source": [
    "classes = data.predict.unique()\n",
    "separate_classes = [3, 25, 21, 36, 14, 6, 12]\n",
    "\n",
    "def objective(trial):\n",
    "    good = data.copy()\n",
    "\n",
    "    for i in separate_classes:\n",
    "        trial.suggest_float(f'thr_{i}', 0, 1)\n",
    "        good = good[(good.predict != i) | (good.proba >= trial.params[f'thr_{i}'])]\n",
    "\n",
    "    trial.suggest_float('thr_other', 0, 1)\n",
    "    good = good[good.predict.isin(separate_classes) | (good.proba >= trial.params['thr_other'])]\n",
    "\n",
    "    acc = (good.target == good.predict).mean()\n",
    "    cover = len(good) / len(data)\n",
    "    f_score = 8 * acc * cover / (acc + 7 * cover)\n",
    "    return f_score\n",
    "\n",
    "study3 = optuna.create_study(direction='maximize')\n",
    "study3.optimize(objective, timeout=300, n_jobs=-1)"
   ]
  },
  {
   "cell_type": "code",
   "execution_count": 9,
   "metadata": {},
   "outputs": [
    {
     "data": {
      "text/plain": [
       "(0.9297170862107373, 0.6853958317428811, 0.8900575271796944)"
      ]
     },
     "execution_count": 9,
     "metadata": {},
     "output_type": "execute_result"
    }
   ],
   "source": [
    "good = data.copy()\n",
    "for i in separate_classes:\n",
    "    thr_i = study3.best_params[f'thr_{i}']\n",
    "    good = good[(good.predict != i) | (good.proba >= thr_i)]\n",
    "good = good[good.predict.isin(separate_classes) | (good.proba >= study3.best_params['thr_other'])]\n",
    "acc3 = (good.target == good.predict).mean()\n",
    "cover3 = len(good) / len(data)\n",
    "f_score3 = 8 * acc3 * cover3 / (acc3 + 7 * cover3)\n",
    "acc3, cover3, f_score3"
   ]
  },
  {
   "cell_type": "code",
   "execution_count": 17,
   "metadata": {},
   "outputs": [
    {
     "data": {
      "image/png": "[encoded data removed]",
      "text/plain": [
       "<Figure size 640x480 with 1 Axes>"
      ]
     },
     "metadata": {},
     "output_type": "display_data"
    }
   ],
   "source": [
    "plt.plot(c_all, a_all, label='Общий порог')\n",
    "x_grid = np.linspace(0.4, 1, 100)\n",
    "y_grid = 7*k*x_grid/(8*x_grid-k)\n",
    "x_grid2 = np.linspace(0.7, 1, 100)\n",
    "y_grid2 = k2*x_grid2/(2*x_grid2-k2)\n",
    "plt.plot(x_grid2, y_grid2, '--', label='Линия уровня $F$')\n",
    "plt.plot(x_grid, y_grid, '--', label='Линия уровня $\\hat{F}$')\n",
    "plt.scatter(cover, acc, c='c', label='Полный перебор')\n",
    "plt.scatter(cover2, acc2, c='g', label='Неполный перебор')\n",
    "plt.scatter(cover3, acc3, c='b', label='Неполный перебор дольше')\n",
    "plt.xlabel('Покрытие')\n",
    "plt.ylabel('Доля правильных ответов')\n",
    "plt.ylim(top=1.01)\n",
    "plt.grid()\n",
    "plt.legend();"
   ]
  }
 ],
 "metadata": {
  "kernelspec": {
   "display_name": "base",
   "language": "python",
   "name": "python3"
  },
  "language_info": {
   "codemirror_mode": {
    "name": "ipython",
    "version": 3
   },
   "file_extension": ".py",
   "mimetype": "text/x-python",
   "name": "python",
   "nbconvert_exporter": "python",
   "pygments_lexer": "ipython3",
   "version": "3.10.9"
  },
  "orig_nbformat": 4
 },
 "nbformat": 4,
 "nbformat_minor": 2
}
